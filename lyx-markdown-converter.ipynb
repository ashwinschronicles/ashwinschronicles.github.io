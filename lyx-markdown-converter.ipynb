{
 "cells": [
  {
   "cell_type": "code",
   "execution_count": 9,
   "metadata": {},
   "outputs": [],
   "source": [
    "def convert_markdown_images(markdown_file):\n",
    "    new_content = ''\n",
    "\n",
    "    with open(markdown_file, 'r') as file:\n",
    "        content = file.read()\n",
    "\n",
    "        # Find image syntax and replace it with the modified format\n",
    "        pattern = r'!\\[([^\\]]+)\\]\\(([^)]+)\\)(\\{#[^\\}]+\\})?(\\s*width=\"[^\"]+\"\\s*)?'\n",
    "        matches = re.findall(pattern, content)\n",
    "\n",
    "        for match in matches:\n",
    "            alt_text, image_path, caption, width_attr = match\n",
    "\n",
    "            # Modify the image path\n",
    "            new_image_path = f\"{{attach}}Photos/{image_path}.webp\"\n",
    "            new_caption = f\"#{caption}\" if caption else \"\"\n",
    "\n",
    "            # Remove the width attribute if present\n",
    "            modified_syntax = f\"![{alt_text}]({new_image_path}){new_caption}\"\n",
    "            if width_attr:\n",
    "                modified_syntax = modified_syntax.replace(width_attr, \"\")\n",
    "\n",
    "            # Replace the image syntax with the modified format\n",
    "            content = content.replace(f\"![{alt_text}]({image_path}){caption}{width_attr}\", modified_syntax)\n",
    "\n",
    "        new_content = content\n",
    "\n",
    "    # Save the modified content to a new markdown file\n",
    "    modified_file = f\"{markdown_file}_modified.md\"\n",
    "    with open(modified_file, 'w') as file:\n",
    "        file.write(new_content)\n",
    "\n",
    "    print(f\"Conversion complete. Modified content saved to '{modified_file}'.\")\n"
   ]
  },
  {
   "cell_type": "code",
   "execution_count": 10,
   "metadata": {},
   "outputs": [
    {
     "name": "stdout",
     "output_type": "stream",
     "text": [
      "Conversion complete. Modified content saved to 'content/Science/NISER-thesis-sem1/report.md_modified.md'.\n"
     ]
    }
   ],
   "source": [
    "# Provide the path to the markdown file you want to convert\n",
    "markdown_file = \"content/Science/NISER-thesis-sem1/report.md\"\n",
    "convert_markdown_images(markdown_file)\n"
   ]
  },
  {
   "cell_type": "code",
   "execution_count": null,
   "metadata": {},
   "outputs": [],
   "source": []
  }
 ],
 "metadata": {
  "kernelspec": {
   "display_name": "Python 3",
   "language": "python",
   "name": "python3"
  },
  "language_info": {
   "codemirror_mode": {
    "name": "ipython",
    "version": 3
   },
   "file_extension": ".py",
   "mimetype": "text/x-python",
   "name": "python",
   "nbconvert_exporter": "python",
   "pygments_lexer": "ipython3",
   "version": "3.11.3"
  },
  "orig_nbformat": 4
 },
 "nbformat": 4,
 "nbformat_minor": 2
}
